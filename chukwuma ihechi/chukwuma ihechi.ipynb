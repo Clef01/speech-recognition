{
 "cells": [
  {
   "cell_type": "code",
   "execution_count": null,
   "id": "ddc9a83b",
   "metadata": {},
   "outputs": [],
   "source": [
    "import speech_recognition as sr\n",
    "from time import sleep\n",
    "\n",
    "\n",
    "def take():\n",
    "    r = sr.Recognizer()\n",
    "\n",
    "\n",
    "    audioFile = sr.AudioFile('Recording for assignment.wav')\n",
    "    with audioFile as source:\n",
    "        r.pause_threshold = 1\n",
    "        r.adjust_for_ambient_noise(source)\n",
    "        audio = r.record(source)\n",
    "        print(\"Recognising your speech...\")\n",
    "\n",
    "    try:\n",
    "        query = r.recognize_google(audio, language='en-Us')\n",
    "        sleep(1)\n",
    "        print(\"\\n\")\n",
    "        print(query)\n",
    "\n",
    "    except Exception as e:\n",
    "        print(\"An error occured. Please enable internet connection\")\n",
    "\n",
    "        return \"None\"\n",
    "\n",
    "    return query\n",
    "\n",
    "query = take()\n",
    "sleep(10)\n",
    "print(\"Quitting the program now\")\n",
    "sleep(3)\n"
   ]
  }
 ],
 "metadata": {
  "kernelspec": {
   "display_name": "Python 3 (ipykernel)",
   "language": "python",
   "name": "python3"
  },
  "language_info": {
   "codemirror_mode": {
    "name": "ipython",
    "version": 3
   },
   "file_extension": ".py",
   "mimetype": "text/x-python",
   "name": "python",
   "nbconvert_exporter": "python",
   "pygments_lexer": "ipython3",
   "version": "3.9.13"
  }
 },
 "nbformat": 4,
 "nbformat_minor": 5
}
